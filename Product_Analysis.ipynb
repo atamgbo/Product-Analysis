{
 "cells": [
  {
   "cell_type": "code",
   "execution_count": 2,
   "id": "5af37c21",
   "metadata": {},
   "outputs": [],
   "source": [
    "from pyspark.sql import SparkSession\n",
    "import getpass \n",
    "username = getpass.getuser()\n",
    "spark = SparkSession.\\\n",
    "    builder.\\\n",
    "    config('spark.ui.port','0').\\\n",
    "    config(\"spark.sql.warehouse.dir\",f\"/user/itv010130/warehouse\").\\\n",
    "    enableHiveSupport().\\\n",
    "    master('yarn').\\\n",
    "    getOrCreate()"
   ]
  },
  {
   "cell_type": "code",
   "execution_count": 41,
   "id": "d2eb6c62",
   "metadata": {},
   "outputs": [],
   "source": [
    "products_df = spark.read \\\n",
    ".format(\"csv\") \\\n",
    ".option(\"header\",\"true\") \\\n",
    ".option(\"inferSchema\",\"true\") \\\n",
    ".load(\"/public/trendytech/retail_db/products\")"
   ]
  },
  {
   "cell_type": "code",
   "execution_count": 4,
   "id": "d7fe8c5b",
   "metadata": {},
   "outputs": [
    {
     "name": "stdout",
     "output_type": "stream",
     "text": [
      "+---+---+---------------------------------------------+----+------+-------------------------------------------------------------------------------------+\n",
      "|  1|  2|Quest Q64 10 FT. x 10 FT. Slant Leg Instant U| _c3| 59.98|http://images.acmesports.sports/Quest+Q64+10+FT.+x+10+FT.+Slant+Leg+Instant+Up+Canopy|\n",
      "+---+---+---------------------------------------------+----+------+-------------------------------------------------------------------------------------+\n",
      "|  2|  2|                         Under Armour Men'...|null|129.99|                                                                 http://images.acm...|\n",
      "|  3|  2|                         Under Armour Men'...|null| 89.99|                                                                 http://images.acm...|\n",
      "|  4|  2|                         Under Armour Men'...|null| 89.99|                                                                 http://images.acm...|\n",
      "|  5|  2|                         Riddell Youth Rev...|null|199.99|                                                                 http://images.acm...|\n",
      "|  6|  2|                         Jordan Men's VI R...|null|134.99|                                                                 http://images.acm...|\n",
      "|  7|  2|                         Schutt Youth Recr...|null| 99.99|                                                                 http://images.acm...|\n",
      "|  8|  2|                         Nike Men's Vapor ...|null|129.99|                                                                 http://images.acm...|\n",
      "|  9|  2|                         Nike Adult Vapor ...|null|  50.0|                                                                 http://images.acm...|\n",
      "| 10|  2|                         Under Armour Men'...|null|129.99|                                                                 http://images.acm...|\n",
      "| 11|  2|                         Fitness Gear 300 ...|null|209.99|                                                                 http://images.acm...|\n",
      "| 12|  2|                         Under Armour Men'...|null|139.99|                                                                 http://images.acm...|\n",
      "| 13|  2|                         Under Armour Men'...|null| 89.99|                                                                 http://images.acm...|\n",
      "| 14|  2|                         Quik Shade Summit...|null|199.99|                                                                 http://images.acm...|\n",
      "| 15|  2|                         Under Armour Kids...|null| 59.99|                                                                 http://images.acm...|\n",
      "| 16|  2|                         Riddell Youth 360...|null|299.99|                                                                 http://images.acm...|\n",
      "| 17|  2|                         Under Armour Men'...|null|129.99|                                                                 http://images.acm...|\n",
      "| 18|  2|                         Reebok Men's Full...|null| 29.97|                                                                 http://images.acm...|\n",
      "| 19|  2|                         Nike Men's Finger...|null|124.99|                                                                 http://images.acm...|\n",
      "| 20|  2|                         Under Armour Men'...|null|129.99|                                                                 http://images.acm...|\n",
      "| 21|  2|                         Under Armour Kids...|null| 54.99|                                                                 http://images.acm...|\n",
      "+---+---+---------------------------------------------+----+------+-------------------------------------------------------------------------------------+\n",
      "only showing top 20 rows\n",
      "\n"
     ]
    }
   ],
   "source": [
    "products_df.show()"
   ]
  },
  {
   "cell_type": "code",
   "execution_count": 6,
   "id": "f285df10",
   "metadata": {},
   "outputs": [
    {
     "name": "stdout",
     "output_type": "stream",
     "text": [
      "root\n",
      " |-- 1: integer (nullable = true)\n",
      " |-- 2: integer (nullable = true)\n",
      " |-- Quest Q64 10 FT. x 10 FT. Slant Leg Instant U: string (nullable = true)\n",
      " |-- _c3: string (nullable = true)\n",
      " |-- 59.98: double (nullable = true)\n",
      " |-- http://images.acmesports.sports/Quest+Q64+10+FT.+x+10+FT.+Slant+Leg+Instant+Up+Canopy: string (nullable = true)\n",
      "\n"
     ]
    }
   ],
   "source": [
    "products_df.printSchema()"
   ]
  },
  {
   "cell_type": "code",
   "execution_count": 9,
   "id": "64259421",
   "metadata": {},
   "outputs": [],
   "source": [
    "products_df.createOrReplaceTempView(\"products\")"
   ]
  },
  {
   "cell_type": "code",
   "execution_count": 11,
   "id": "f20758f2",
   "metadata": {},
   "outputs": [
    {
     "data": {
      "text/html": [
       "<table border='1'>\n",
       "<tr><th></th></tr>\n",
       "</table>\n"
      ],
      "text/plain": [
       "++\n",
       "||\n",
       "++\n",
       "++"
      ]
     },
     "execution_count": 11,
     "metadata": {},
     "output_type": "execute_result"
    }
   ],
   "source": [
    "spark.sql(\"create table itv010130_retail_db.productss_list (ProductID integer, Category integer, ProductName string, Description string, Price double, ImageURL string) using csv\")"
   ]
  },
  {
   "cell_type": "code",
   "execution_count": 12,
   "id": "957a9956",
   "metadata": {},
   "outputs": [
    {
     "data": {
      "text/html": [
       "<table border='1'>\n",
       "<tr><th></th></tr>\n",
       "</table>\n"
      ],
      "text/plain": [
       "++\n",
       "||\n",
       "++\n",
       "++"
      ]
     },
     "execution_count": 12,
     "metadata": {},
     "output_type": "execute_result"
    }
   ],
   "source": [
    "spark.sql(\"insert into itv010130_retail_db.productss_list select * from products\")"
   ]
  },
  {
   "cell_type": "code",
   "execution_count": 13,
   "id": "f5bf21e7",
   "metadata": {},
   "outputs": [],
   "source": [
    "result = spark.sql(\"select * from itv010130_retail_db.productss_list\")"
   ]
  },
  {
   "cell_type": "code",
   "execution_count": 14,
   "id": "e5022b57",
   "metadata": {},
   "outputs": [
    {
     "name": "stdout",
     "output_type": "stream",
     "text": [
      "+---------+--------+--------------------+-----------+------+--------------------+\n",
      "|ProductID|Category|         ProductName|Description| Price|            ImageURL|\n",
      "+---------+--------+--------------------+-----------+------+--------------------+\n",
      "|        2|       2|Under Armour Men'...|       null|129.99|http://images.acm...|\n",
      "|        3|       2|Under Armour Men'...|       null| 89.99|http://images.acm...|\n",
      "|        4|       2|Under Armour Men'...|       null| 89.99|http://images.acm...|\n",
      "+---------+--------+--------------------+-----------+------+--------------------+\n",
      "only showing top 3 rows\n",
      "\n"
     ]
    }
   ],
   "source": [
    "result.show(3)"
   ]
  },
  {
   "cell_type": "markdown",
   "id": "d68047bd",
   "metadata": {},
   "source": [
    "### 1. Find the total number of products"
   ]
  },
  {
   "cell_type": "code",
   "execution_count": 23,
   "id": "226bb0d1",
   "metadata": {},
   "outputs": [],
   "source": [
    "result = spark.sql(\"select count(ProductName) as Total_products from itv010130_retail_db.productss_list\")"
   ]
  },
  {
   "cell_type": "code",
   "execution_count": 24,
   "id": "aa297b95",
   "metadata": {},
   "outputs": [
    {
     "name": "stdout",
     "output_type": "stream",
     "text": [
      "+--------------+\n",
      "|Total_products|\n",
      "+--------------+\n",
      "|          1344|\n",
      "+--------------+\n",
      "\n"
     ]
    }
   ],
   "source": [
    "result.show()"
   ]
  },
  {
   "cell_type": "markdown",
   "id": "ab8d43ce",
   "metadata": {},
   "source": [
    "### 2. Number of unique categories of products"
   ]
  },
  {
   "cell_type": "code",
   "execution_count": 28,
   "id": "71726990",
   "metadata": {},
   "outputs": [],
   "source": [
    "result = spark.sql(\"select count(distinct Category) as Number_category from itv010130_retail_db.productss_list\")"
   ]
  },
  {
   "cell_type": "code",
   "execution_count": 35,
   "id": "87b4c59a",
   "metadata": {},
   "outputs": [
    {
     "name": "stdout",
     "output_type": "stream",
     "text": [
      "+---------------+\n",
      "|Number_category|\n",
      "+---------------+\n",
      "|             55|\n",
      "+---------------+\n",
      "\n"
     ]
    }
   ],
   "source": [
    "result.show()"
   ]
  },
  {
   "cell_type": "markdown",
   "id": "09facb36",
   "metadata": {},
   "source": [
    "### 3. Top 5 most expensive products"
   ]
  },
  {
   "cell_type": "code",
   "execution_count": 44,
   "id": "11968fd2",
   "metadata": {},
   "outputs": [],
   "source": [
    "most_expensive = spark.sql(\"select ProductName, Category, Price, imageURL from itv010130_retail_db.productss_list order by price desc limit 5\")"
   ]
  },
  {
   "cell_type": "code",
   "execution_count": 46,
   "id": "fe43235b",
   "metadata": {},
   "outputs": [
    {
     "name": "stdout",
     "output_type": "stream",
     "text": [
      "+------------------------------------------------+--------+-------+-----------------------------------------------------------------------------------+\n",
      "|ProductName                                     |Category|Price  |imageURL                                                                           |\n",
      "+------------------------------------------------+--------+-------+-----------------------------------------------------------------------------------+\n",
      "|SOLE E35 Elliptical                             |10      |1999.99|http://images.acmesports.sports/SOLE+E35+Elliptical                                |\n",
      "|SOLE F85 Treadmill                              |4       |1799.99|http://images.acmesports.sports/SOLE+F85+Treadmill                                 |\n",
      "|SOLE F85 Treadmill                              |10      |1799.99|http://images.acmesports.sports/SOLE+F85+Treadmill                                 |\n",
      "|SOLE F85 Treadmill                              |22      |1799.99|http://images.acmesports.sports/SOLE+F85+Treadmill                                 |\n",
      "|\"Spalding Beast 60\"\" Glass Portable Basketball \"|47      |1099.99|http://images.acmesports.sports/Spalding+Beast+60%22+Glass+Portable+Basketball+Hoop|\n",
      "+------------------------------------------------+--------+-------+-----------------------------------------------------------------------------------+\n",
      "\n"
     ]
    }
   ],
   "source": [
    "most_expensive.show(truncate = False)"
   ]
  },
  {
   "cell_type": "markdown",
   "id": "9a7a7468",
   "metadata": {},
   "source": [
    "### 4. Number of products in each category with price greater than $100"
   ]
  },
  {
   "cell_type": "code",
   "execution_count": 52,
   "id": "e37e33e2",
   "metadata": {},
   "outputs": [],
   "source": [
    "cat_product100 = spark.sql(\"select Category,count(ProductName) as product_count from itv010130_retail_db.productss_list where Price > 100 group by Category\")"
   ]
  },
  {
   "cell_type": "code",
   "execution_count": 53,
   "id": "b2761e3e",
   "metadata": {},
   "outputs": [
    {
     "name": "stdout",
     "output_type": "stream",
     "text": [
      "+--------+-------------+\n",
      "|Category|product_count|\n",
      "+--------+-------------+\n",
      "|      31|           17|\n",
      "|      53|           16|\n",
      "|      34|           15|\n",
      "|      44|            9|\n",
      "|      12|            3|\n",
      "|      22|            4|\n",
      "|      47|           10|\n",
      "|      52|            5|\n",
      "|      13|            1|\n",
      "|       6|            5|\n",
      "|      16|           11|\n",
      "|       3|            5|\n",
      "|      20|            7|\n",
      "|      57|            6|\n",
      "|      54|            6|\n",
      "|      48|           17|\n",
      "|       5|           11|\n",
      "|      19|           13|\n",
      "|      41|           11|\n",
      "|      43|           23|\n",
      "+--------+-------------+\n",
      "only showing top 20 rows\n",
      "\n"
     ]
    }
   ],
   "source": [
    "cat_product100.show()"
   ]
  },
  {
   "cell_type": "markdown",
   "id": "3ad48470",
   "metadata": {},
   "source": [
    "### 5. Names and Prices of Products greater than 200 dollar and in category 5"
   ]
  },
  {
   "cell_type": "code",
   "execution_count": 54,
   "id": "c8197631",
   "metadata": {},
   "outputs": [],
   "source": [
    "Product = spark.sql(\"select ProductName, Price from itv010130_retail_db.productss_list where Price > 200 and Category = 5\")"
   ]
  },
  {
   "cell_type": "code",
   "execution_count": 56,
   "id": "5a8c1fd9",
   "metadata": {},
   "outputs": [
    {
     "name": "stdout",
     "output_type": "stream",
     "text": [
      "+------------------------------------------------+------+\n",
      "|ProductName                                     |Price |\n",
      "+------------------------------------------------+------+\n",
      "|\"Goaliath 54\"\" In-Ground Basketball Hoop with P\"|499.99|\n",
      "|Fitness Gear 300 lb Olympic Weight Set          |209.99|\n",
      "|Teeter Hang Ups NXT-S Inversion Table           |299.99|\n",
      "+------------------------------------------------+------+\n",
      "\n"
     ]
    }
   ],
   "source": [
    "Product.show(truncate = False)"
   ]
  },
  {
   "cell_type": "code",
   "execution_count": null,
   "id": "26851395",
   "metadata": {},
   "outputs": [],
   "source": []
  }
 ],
 "metadata": {
  "kernelspec": {
   "display_name": "Pyspark 3",
   "language": "python",
   "name": "pyspark3"
  },
  "language_info": {
   "codemirror_mode": {
    "name": "ipython",
    "version": 3
   },
   "file_extension": ".py",
   "mimetype": "text/x-python",
   "name": "python",
   "nbconvert_exporter": "python",
   "pygments_lexer": "ipython3",
   "version": "3.6.12"
  }
 },
 "nbformat": 4,
 "nbformat_minor": 5
}
